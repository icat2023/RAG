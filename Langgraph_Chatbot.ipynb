{
  "cells": [
    {
      "cell_type": "code",
      "execution_count": null,
      "metadata": {
        "id": "VnUpSvM07q3e"
      },
      "outputs": [],
      "source": [
        "API_KEY = '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'\n",
        "from typing import TypedDict, Literal, Annotated\n",
        "from langgraph.graph import StateGraph, START, END\n",
        "from langgraph.graph.message import add_messages\n",
        "from langchain_groq import ChatGroq\n",
        "from langchain_core.tools import tool\n",
        "from langgraph.prebuilt import ToolNode, tools_condition"
      ]
    },
    {
      "cell_type": "code",
      "execution_count": null,
      "metadata": {
        "id": "Imh_-M9d9OkU"
      },
      "outputs": [],
      "source": [
        "llm = ChatGroq(api_key=API_KEY,model_name=\"llama-3.3-70b-versatile\")\n",
        "class State(TypedDict):\n",
        "  messages: Annotated[list, add_messages]\n",
        "\n",
        "def chatbot(state: State) -> State:\n",
        "  # Append the new message to the list of messages\n",
        "  return {\"messages\": state[\"messages\"] + [llm.invoke(state[\"messages\"])]}\n",
        "\n",
        "builder = StateGraph(State)\n",
        "builder.add_node(\"chatbot_node\", chatbot)\n",
        "builder.add_edge(START, \"chatbot_node\")\n",
        "builder.add_edge(\"chatbot_node\", END)\n",
        "graph = builder.compile()\n",
        "#message = {\"role\": \"user\", \"content\": \"Hello, World!\"}\n",
        "#response = graph.invoke({\"messages\": [message]})\n",
        "#response[\"messages\"]"
      ]
    },
    {
      "cell_type": "code",
      "execution_count": null,
      "metadata": {
        "id": "g939N1p_UDEd"
      },
      "outputs": [],
      "source": [
        "state = None\n",
        "while True:\n",
        "  in_message = input(\"You: \")\n",
        "  if in_message.lower() in {\"quit\", \"exit\"}:\n",
        "    break\n",
        "  if state is None:\n",
        "    state: State = {\n",
        "        \"messages\": [{\"role\": \"user\", \"content\": in_message}]\n",
        "    }\n",
        "  else:\n",
        "    state[\"messages\"].append({\"role\": \"user\", \"content\": in_message})\n",
        "\n",
        "  state = graph.invoke(state)\n",
        "  print(\"Bot:\", state[\"messages\"][-1].content)"
      ]
    }
  ],
  "metadata": {
    "colab": {
      "provenance": []
    },
    "kernelspec": {
      "display_name": "Python 3",
      "name": "python3"
    },
    "language_info": {
      "name": "python"
    }
  },
  "nbformat": 4,
  "nbformat_minor": 0
}