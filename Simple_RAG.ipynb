{
  "nbformat": 4,
  "nbformat_minor": 0,
  "metadata": {
    "colab": {
      "provenance": []
    },
    "kernelspec": {
      "name": "python3",
      "display_name": "Python 3"
    },
    "language_info": {
      "name": "python"
    }
  },
  "cells": [
    {
      "cell_type": "markdown",
      "source": [
        "API KEY from Groq Cloud. You can use this or use your own for free."
      ],
      "metadata": {
        "id": "YHFRe4jN-D2A"
      }
    },
    {
      "cell_type": "code",
      "source": [
        "API_KEY = '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'"
      ],
      "metadata": {
        "id": "BR9_SUKUlan-"
      },
      "execution_count": 1,
      "outputs": []
    },
    {
      "cell_type": "markdown",
      "source": [
        "Importing Chat Groq"
      ],
      "metadata": {
        "id": "ep94wjxP-bsk"
      }
    },
    {
      "cell_type": "code",
      "source": [
        "from langchain_groq import ChatGroq\n",
        "llm = ChatGroq(api_key=API_KEY,model_name=\"llama-3.3-70b-versatile\")"
      ],
      "metadata": {
        "id": "am78suwMk015"
      },
      "execution_count": 10,
      "outputs": []
    },
    {
      "cell_type": "markdown",
      "source": [
        "Response from LLM"
      ],
      "metadata": {
        "id": "vzwLLfCs-hio"
      }
    },
    {
      "cell_type": "code",
      "source": [
        "response = llm.invoke(\"Hello, world!\")\n",
        "response.content"
      ],
      "metadata": {
        "colab": {
          "base_uri": "https://localhost:8080/",
          "height": 36
        },
        "id": "f3hfbniCnMLJ",
        "outputId": "b8113ff4-06a9-4808-a4bd-34ccbfe131c5"
      },
      "execution_count": 3,
      "outputs": [
        {
          "output_type": "execute_result",
          "data": {
            "text/plain": [
              "\"Hello. It's nice to meet you. Is there something I can help you with or would you like to chat?\""
            ],
            "application/vnd.google.colaboratory.intrinsic+json": {
              "type": "string"
            }
          },
          "metadata": {},
          "execution_count": 3
        }
      ]
    },
    {
      "cell_type": "markdown",
      "source": [
        "Importing all the libraries"
      ],
      "metadata": {
        "id": "MeqD4ADq-jXy"
      }
    },
    {
      "cell_type": "code",
      "source": [
        "from langchain.embeddings import HuggingFaceEmbeddings\n",
        "from langchain.vectorstores import Chroma\n",
        "from langchain.document_loaders import TextLoader\n",
        "from langchain.text_splitter import RecursiveCharacterTextSplitter\n",
        "from langchain.chains import RetrievalQA\n",
        "from langchain.schema import Document"
      ],
      "metadata": {
        "id": "lWcZELpLpIU5"
      },
      "execution_count": 4,
      "outputs": []
    },
    {
      "cell_type": "markdown",
      "source": [
        "Text Loading"
      ],
      "metadata": {
        "id": "i_oOO10e-l0M"
      }
    },
    {
      "cell_type": "code",
      "source": [
        "loader = TextLoader(\"Internship_Task_01.txt\")\n",
        "docs = loader.load()\n",
        "text_splitter = RecursiveCharacterTextSplitter(chunk_size=1000, chunk_overlap=200)\n",
        "texts = text_splitter.split_documents(docs)"
      ],
      "metadata": {
        "id": "N3YG61SeuGVG"
      },
      "execution_count": 5,
      "outputs": []
    },
    {
      "cell_type": "markdown",
      "source": [
        "Create Vector Graph"
      ],
      "metadata": {
        "id": "CurCUYdh-ofB"
      }
    },
    {
      "cell_type": "code",
      "source": [
        "embedding = HuggingFaceEmbeddings(model_name=\"all-MiniLM-L6-v2\")\n",
        "vectorstore = Chroma.from_documents(texts, embedding=embedding)"
      ],
      "metadata": {
        "colab": {
          "base_uri": "https://localhost:8080/"
        },
        "id": "i7_mpSoKuWOl",
        "outputId": "f06f195c-d603-4cac-f97e-cfd2a1093cf9"
      },
      "execution_count": 6,
      "outputs": [
        {
          "output_type": "stream",
          "name": "stderr",
          "text": [
            "/tmp/ipython-input-6-418719908.py:1: LangChainDeprecationWarning: The class `HuggingFaceEmbeddings` was deprecated in LangChain 0.2.2 and will be removed in 1.0. An updated version of the class exists in the :class:`~langchain-huggingface package and should be used instead. To use it run `pip install -U :class:`~langchain-huggingface` and import as `from :class:`~langchain_huggingface import HuggingFaceEmbeddings``.\n",
            "  embedding = HuggingFaceEmbeddings(model_name=\"all-MiniLM-L6-v2\")\n",
            "/usr/local/lib/python3.11/dist-packages/huggingface_hub/utils/_auth.py:94: UserWarning: \n",
            "The secret `HF_TOKEN` does not exist in your Colab secrets.\n",
            "To authenticate with the Hugging Face Hub, create a token in your settings tab (https://huggingface.co/settings/tokens), set it as secret in your Google Colab and restart your session.\n",
            "You will be able to reuse this secret in all of your notebooks.\n",
            "Please note that authentication is recommended but still optional to access public models or datasets.\n",
            "  warnings.warn(\n"
          ]
        }
      ]
    },
    {
      "cell_type": "markdown",
      "source": [
        "Creating Retrieval"
      ],
      "metadata": {
        "id": "eGi8M0vI-r74"
      }
    },
    {
      "cell_type": "code",
      "source": [
        "retriever = vectorstore.as_retriever()\n",
        "qa = RetrievalQA.from_chain_type(llm=llm, retriever=retriever)"
      ],
      "metadata": {
        "id": "EehhdC7MwBHY"
      },
      "execution_count": 7,
      "outputs": []
    },
    {
      "cell_type": "markdown",
      "source": [
        "User Query"
      ],
      "metadata": {
        "id": "n4PO9vzG-vrc"
      }
    },
    {
      "cell_type": "code",
      "source": [
        "response = qa.run(\"What is Langchain?\")\n",
        "print(response)"
      ],
      "metadata": {
        "colab": {
          "base_uri": "https://localhost:8080/"
        },
        "id": "kmbmweg4wRKg",
        "outputId": "8d9b0e41-438c-407d-a544-b8d31e0f793a"
      },
      "execution_count": 9,
      "outputs": [
        {
          "output_type": "stream",
          "name": "stdout",
          "text": [
            "Langchain is an open-source framework for building applications with Large Language Models (LLMs). It provides building blocks for prompts, chains, agents, and tool integration, allowing users to integrate LLMs with various documents, systems, or sources to access and utilize them for specific purposes. One of the main use cases of Langchain is Retrieval Augment Generation (RAG).\n"
          ]
        }
      ]
    }
  ]
}